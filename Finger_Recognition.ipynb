{
  "nbformat": 4,
  "nbformat_minor": 0,
  "metadata": {
    "colab": {
      "name": "Finger Recognition.ipynb",
      "provenance": [],
      "collapsed_sections": [],
      "include_colab_link": true
    },
    "kernelspec": {
      "name": "python3",
      "display_name": "Python 3"
    }
  },
  "cells": [
    {
      "cell_type": "markdown",
      "metadata": {
        "id": "view-in-github",
        "colab_type": "text"
      },
      "source": [
        "<a href=\"https://colab.research.google.com/github/Addii45/Finger-Recognition/blob/main/Finger_Recognition.ipynb\" target=\"_parent\"><img src=\"https://colab.research.google.com/assets/colab-badge.svg\" alt=\"Open In Colab\"/></a>"
      ]
    },
    {
      "cell_type": "code",
      "metadata": {
        "id": "eeu2Tz0pXdVJ",
        "colab": {
          "base_uri": "https://localhost:8080/",
          "height": 119
        },
        "outputId": "503625ad-ed08-4b2b-da65-c4627d3fb233"
      },
      "source": [
        "%tensorflow_version 1.4.0\n",
        "import tensorflow as tf\n",
        "from tensorflow.keras.preprocessing.image import ImageDataGenerator\n",
        "from tensorflow.keras.optimizers import RMSprop\n",
        "import matplotlib.pyplot as plt\n",
        "import os\n",
        "import zipfile\n",
        "\n",
        "print(tf.__version__)"
      ],
      "execution_count": null,
      "outputs": [
        {
          "output_type": "stream",
          "text": [
            "`%tensorflow_version` only switches the major version: 1.x or 2.x.\n",
            "You set: `1.4.0`. This will be interpreted as: `1.x`.\n",
            "\n",
            "\n",
            "TensorFlow 1.x selected.\n",
            "1.15.2\n"
          ],
          "name": "stdout"
        }
      ]
    },
    {
      "cell_type": "code",
      "metadata": {
        "id": "l1qOw2JvXhXm"
      },
      "source": [
        "! pip install -q kaggle"
      ],
      "execution_count": null,
      "outputs": []
    },
    {
      "cell_type": "code",
      "metadata": {
        "id": "_GvwPW7xXjKa",
        "colab": {
          "resources": {
            "http://localhost:8080/nbextensions/google.colab/files.js": {
              "data": "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",
              "ok": true,
              "headers": [
                [
                  "content-type",
                  "application/javascript"
                ]
              ],
              "status": 200,
              "status_text": ""
            }
          },
          "base_uri": "https://localhost:8080/",
          "height": 89
        },
        "outputId": "4b2af494-0561-4136-b159-a586f087906d"
      },
      "source": [
        "from google.colab import files\n",
        "files.upload()"
      ],
      "execution_count": null,
      "outputs": [
        {
          "output_type": "display_data",
          "data": {
            "text/html": [
              "\n",
              "     <input type=\"file\" id=\"files-f870511a-bdfa-48f1-ba84-acaf42016c1b\" name=\"files[]\" multiple disabled\n",
              "        style=\"border:none\" />\n",
              "     <output id=\"result-f870511a-bdfa-48f1-ba84-acaf42016c1b\">\n",
              "      Upload widget is only available when the cell has been executed in the\n",
              "      current browser session. Please rerun this cell to enable.\n",
              "      </output>\n",
              "      <script src=\"/nbextensions/google.colab/files.js\"></script> "
            ],
            "text/plain": [
              "<IPython.core.display.HTML object>"
            ]
          },
          "metadata": {
            "tags": []
          }
        },
        {
          "output_type": "stream",
          "text": [
            "Saving kaggle.json to kaggle.json\n"
          ],
          "name": "stdout"
        },
        {
          "output_type": "execute_result",
          "data": {
            "text/plain": [
              "{'kaggle.json': b'{\"username\":\"aaddii45\",\"key\":\"8c6177143bfa89ba9f5863634b81d2a0\"}'}"
            ]
          },
          "metadata": {
            "tags": []
          },
          "execution_count": 3
        }
      ]
    },
    {
      "cell_type": "code",
      "metadata": {
        "id": "5RMYbIbCXlkM"
      },
      "source": [
        "!mkdir ~/.kaggle\n",
        "\n",
        "!cp kaggle.json ~/.kaggle/"
      ],
      "execution_count": null,
      "outputs": []
    },
    {
      "cell_type": "code",
      "metadata": {
        "id": "lbvdPrNvXoiM"
      },
      "source": [
        "! chmod 600 ~/.kaggle/kaggle.json"
      ],
      "execution_count": null,
      "outputs": []
    },
    {
      "cell_type": "code",
      "metadata": {
        "id": "8RRfaDJIXpJv",
        "colab": {
          "base_uri": "https://localhost:8080/",
          "height": 68
        },
        "outputId": "07295b9d-22bc-4532-a2b4-197ca787b3c0"
      },
      "source": [
        "!kaggle datasets download -d koryakinp/fingers"
      ],
      "execution_count": null,
      "outputs": [
        {
          "output_type": "stream",
          "text": [
            "Downloading fingers.zip to /content\n",
            " 98% 356M/363M [00:13<00:00, 36.0MB/s]\n",
            "100% 363M/363M [00:13<00:00, 27.3MB/s]\n"
          ],
          "name": "stdout"
        }
      ]
    },
    {
      "cell_type": "code",
      "metadata": {
        "id": "coTYW3LDXtGv"
      },
      "source": [
        "local_zip_file = '/content/fingers.zip'\n",
        "\n",
        "zip_refs = zipfile.ZipFile(local_zip_file, 'r')\n",
        "\n",
        "zip_refs.extractall('/content')\n",
        "zip_refs.close()"
      ],
      "execution_count": null,
      "outputs": []
    },
    {
      "cell_type": "code",
      "metadata": {
        "id": "YSTfZVtCXvu9"
      },
      "source": [
        "!mkdir train_data\n",
        "!mkdir test_data\n",
        "!mkdir train_data/1\n",
        "!mkdir test_data/1\n",
        "!mkdir train_data/5\n",
        "!mkdir test_data/5\n",
        "!mkdir train_data/0\n",
        "!mkdir test_data/0"
      ],
      "execution_count": null,
      "outputs": []
    },
    {
      "cell_type": "code",
      "metadata": {
        "id": "o_9LwS7DXwVR",
        "colab": {
          "base_uri": "https://localhost:8080/",
          "height": 1000
        },
        "outputId": "9e7c24d1-2bba-40a4-8d45-8ddc38b0a0c5"
      },
      "source": [
        "import os\n",
        "import shutil\n",
        "for filename in os.listdir('/content/fingers/test'):\n",
        "  #print(filename[-6])\n",
        "  if(filename[-6]=='5'):\n",
        "    shutil.move('/content/fingers/test/'+filename, \"/content/test_data/5\") \n",
        "  if(filename[-6]=='1'):\n",
        "    shutil.move('/content/fingers/test/'+filename, \"/content/test_data/1\")\n",
        "  if(filename[-6]=='0'):\n",
        "    shutil.move('/content/fingers/test/'+filename, \"/content/test_data/0\")\n",
        "    print(filename)"
      ],
      "execution_count": null,
      "outputs": [
        {
          "output_type": "stream",
          "text": [
            "0714cc3b-482e-49a5-9022-8cfc1f7d9968_0L.png\n",
            "6e889f1a-a958-409c-a5f7-533d88f233d5_0L.png\n",
            "75c23b0c-eef6-4da7-beab-0793ca3c59fb_0L.png\n",
            "b98db776-132c-4808-be51-b39e9afcc22d_0R.png\n",
            "8093ec08-39d7-48fa-858e-a1ac82712e25_0R.png\n",
            "f83fe110-8696-4007-b455-4977111579f4_0L.png\n",
            "cafb56d2-5f89-4127-b6ff-bc7e5a6dd65f_0L.png\n",
            "2f4bbd24-694d-420f-90b9-3bce10247a70_0R.png\n",
            "9b94e3a7-9907-4a36-baa0-63aef0c64bf0_0R.png\n",
            "9ca328e0-7438-4e9d-84c5-4be9bfc9f4fb_0R.png\n",
            "0b68866e-3aa4-4a86-a046-ec9e9f5b2f15_0L.png\n",
            "9a273ffe-7798-4ac4-b2c5-4c4662b445f4_0L.png\n",
            "6deca9f0-3889-4982-9515-b54375d82f1f_0R.png\n",
            "5bd01a01-28d1-4493-8680-431e7cb95c37_0L.png\n",
            "38a5412c-844c-47a1-9d31-c0db19ca9bc4_0R.png\n",
            "795fadd3-40b7-4cb0-90b9-a229f8685274_0R.png\n",
            "416d44e9-2658-4865-a3b9-d3c4335b1649_0L.png\n",
            "21a81bde-5df0-494c-a1fa-e6a6c8089c8f_0R.png\n",
            "26b4f3de-efad-4594-a260-03257eebb269_0L.png\n",
            "6ac17b46-be5c-4c35-b332-9ba867b9da24_0L.png\n",
            "9d224874-3f6a-4076-b9de-0d59170ebb47_0L.png\n",
            "9c4892c9-5e40-46ec-b5d3-2cdeb9f390da_0L.png\n",
            "a78157d7-001f-4722-907b-1cde206298d8_0R.png\n",
            "ea258b01-cac3-46d3-acbb-51fbe8858ef9_0L.png\n",
            "53df144a-4f37-4b47-8610-95b3339e77ab_0R.png\n",
            "d102d0a9-61e6-46c2-9283-303e9768f771_0L.png\n",
            "babea928-f3db-4ef3-bd9c-16f486f40134_0L.png\n",
            "99f05802-bcf4-4752-9711-11a0db0aa3b0_0L.png\n",
            "d25ac4d1-fcf4-4820-887b-2d5354d80478_0R.png\n",
            "3fc51acd-540e-46a1-97ea-ed048c05494c_0L.png\n",
            "ada68661-a9e4-43d4-8f60-6312767d93a7_0L.png\n",
            "e5b6f6be-abd2-45db-a43f-95c7825fd0d6_0L.png\n",
            "96e3c460-b8d4-479f-93f0-47731abcd81b_0R.png\n",
            "dd60f146-72e2-4310-bc59-865411da2ca6_0L.png\n",
            "9682c943-5402-4e6b-8234-705433e62986_0R.png\n",
            "a4b92565-1b4d-4642-bbd6-8a3c60d01a17_0L.png\n",
            "ba46a1c8-7d01-46f8-8130-5537123c66f7_0L.png\n",
            "afb350bd-e90e-433c-a5e9-0ab6ca933e54_0R.png\n",
            "748bbeb7-53c1-47de-917e-016531efd903_0R.png\n",
            "d756d363-82c6-4b04-b915-cbf2c0bee8e8_0R.png\n",
            "1a3bc8b9-69f8-4e0f-91bd-49fd7e99f6bf_0R.png\n",
            "f239360a-b8c8-48c1-acbb-ca046c188021_0L.png\n",
            "f1a1b7b7-3974-4d25-889d-b8b3843d13b5_0R.png\n",
            "af6dbafa-4075-4639-afba-9be2489f65e8_0L.png\n",
            "5348f031-0934-488b-b19e-06ff15a7cfbc_0R.png\n",
            "fdb2b702-81ed-4b15-aa11-3bbdd0f715bc_0L.png\n",
            "d796242e-e2ee-45c6-92de-971a0aefaac6_0L.png\n",
            "438156b5-e7bd-4fea-817e-b7bf3fc71436_0R.png\n",
            "fbf8bbb6-275d-449e-a81d-2ef3ebe41c1c_0L.png\n",
            "c33008a0-bd5d-4f0e-b595-0047c339f1a4_0R.png\n",
            "30408533-3f6d-436b-92c3-c0e88ab4b288_0R.png\n",
            "f9db6cfe-041b-40f0-aeee-e34d2185d706_0L.png\n",
            "c193b43d-9fdb-4162-8b51-5ffd26df0418_0R.png\n",
            "d0c4dfc7-6b41-4cfc-aa11-be970e18a9da_0R.png\n",
            "d8b25121-5f60-4ed6-937b-445d80b820a8_0R.png\n",
            "8e880964-6d8b-460e-b6ff-c63b15e77865_0R.png\n",
            "e63157ca-b847-41f1-a238-fa807ad78980_0L.png\n",
            "463d4fd8-1d42-4828-bd3a-f80b54f7d360_0R.png\n",
            "b08dab8c-d5d0-4020-a01c-7868eaf9ed6f_0L.png\n",
            "5e1d2cfa-aead-4490-8c3d-1edcec2f87b1_0L.png\n",
            "90faaaa5-21a0-4cd3-b7f4-9a14d434237c_0R.png\n",
            "cc5f78a0-7767-473a-b6b7-27281f27a9a1_0R.png\n",
            "deecdc2e-c784-44aa-906f-99a10de5046b_0R.png\n",
            "4f2a4746-9cae-4185-bea4-bc6f07b01335_0R.png\n",
            "43f9a3d7-16d0-4958-901a-2a88a88197d2_0R.png\n",
            "a75899e9-5500-46cd-87b0-085b7d8c1457_0L.png\n",
            "5350b49c-7ba7-495f-b23d-04735bdb2474_0R.png\n",
            "81205325-ad39-45e1-8406-cdee7e6eac4a_0R.png\n",
            "740a919e-bfe5-4719-8b25-536bf4bb2fea_0R.png\n",
            "262e8963-a88d-4653-bec8-f5722d888e25_0R.png\n",
            "96f51a2c-6df8-47b4-8fd7-7a6c56eba7d0_0R.png\n",
            "02fccd88-483a-47d9-9c27-44399a58cf83_0R.png\n",
            "d5a005d6-ccdb-4cde-a5e3-63215a4ac96d_0L.png\n",
            "3034a69e-ad77-45b8-86f1-35d9dd2fdf23_0R.png\n",
            "90de1a2f-df36-421d-b833-e06fdad4c6a1_0R.png\n",
            "52fcecdf-3d19-4e3c-8875-5359a0485741_0R.png\n",
            "b1499e6e-2844-4157-8631-cde46585fac8_0R.png\n",
            "cd7e25e0-b825-4c21-9bca-deb96511a775_0R.png\n",
            "f6ab12c3-03e7-4f41-9977-2a2a24e9390d_0R.png\n",
            "aedb35b4-2fc0-454c-9def-702538a171e4_0L.png\n",
            "e6889d26-4ee2-4f4a-b7f6-0e9d0c0430b1_0R.png\n",
            "a9f54fd0-73d5-4563-8a4a-84e8a10fd10d_0R.png\n",
            "1934bd90-c8f3-4d4b-93d5-2e76f5e76d1a_0R.png\n",
            "854a7bfd-9b97-46dd-9701-f4d4f72a3252_0R.png\n",
            "98f78659-61c5-4d4b-b048-a4506508cab9_0L.png\n",
            "6b618552-87d0-438a-ab26-d9747fcc8139_0L.png\n",
            "098ef4ae-1e2d-4169-9207-ad03b3871230_0R.png\n",
            "3544d5a4-b8fc-406c-bfb9-e9278e901cf3_0R.png\n",
            "435ef810-b81b-4ae4-8ab6-dd7bb0f9e6a1_0L.png\n",
            "87848010-63c9-4bd6-873d-fb3c8535d464_0L.png\n",
            "9842b39a-5763-4093-9ce0-23e31a2d8cfa_0L.png\n",
            "ee3490ee-9346-410a-a1dc-7580e3b35c6c_0L.png\n",
            "fd1b3e46-fc74-4b05-986e-15ff8c70db29_0R.png\n",
            "cfd83001-151a-4124-948e-67ea846ac4a1_0L.png\n",
            "2c433583-73bd-452e-97dc-d75cb4d7c5ef_0L.png\n",
            "afcfe45e-4b56-4184-ad34-6a7ba986224c_0L.png\n",
            "1f303778-3e46-4be4-a1dc-54d9c6567fd8_0L.png\n",
            "9dee6093-3875-4663-8cc8-be4bbef4ab63_0R.png\n",
            "b45347db-0a9a-4b1f-9182-26c2ae228eba_0L.png\n",
            "bfcabea8-180e-4484-9d66-2af4f153c57b_0L.png\n",
            "95ddd181-9209-4a7c-8756-946af1e32a83_0R.png\n",
            "153a1ab5-39c7-4624-be21-a68262dc7c3f_0R.png\n",
            "12f809ab-9cd1-42ba-b5c8-561c89a5b2c5_0L.png\n",
            "14297164-3f4a-481a-9b51-d4afec3d5f1c_0L.png\n",
            "f727321e-d322-4dce-8bf7-4ddd67ba27ac_0R.png\n",
            "1042c2dd-155d-4328-9589-5280cd96d7b0_0L.png\n",
            "67ce6b7d-f240-4362-b238-905ede119131_0R.png\n",
            "353611c1-93c1-4993-98ec-74b9bab8d6ea_0L.png\n",
            "89b6d74c-1f4f-431b-a9f7-5a6e17584cc6_0R.png\n",
            "c23d60c8-ac6a-458b-8001-1413a77ffb27_0R.png\n",
            "0843a287-3de0-450e-8efe-db46aa07dc61_0L.png\n",
            "b6073c5a-d778-4fcf-94d4-4bfa8c441519_0R.png\n",
            "2292c057-11b2-4c70-b413-e94203a8825d_0R.png\n",
            "a65cc510-259f-4200-885c-e7783f08d17a_0R.png\n",
            "3929a8c3-f6bd-478b-b808-4ec8a7c3e1f6_0R.png\n",
            "10851a6d-ea30-431b-8517-a2a9da2a75aa_0L.png\n",
            "188a6c2b-abbe-4560-ac11-8334f114f09b_0R.png\n",
            "045fd09b-6a8a-438b-85a9-2661f55cb365_0R.png\n",
            "e7a7e433-fb80-4a38-8f2b-8c1e61313424_0L.png\n",
            "9a7fe2fa-f4e8-4304-bcf8-abe4897cee13_0L.png\n",
            "de5d4f7b-3831-4d5a-8236-22b40bd6bbe6_0L.png\n",
            "7119c6c4-e3b0-41d8-bf21-529bbaad0f0e_0L.png\n",
            "13ce5888-c7e9-418c-bf1e-4e9b5d106684_0L.png\n",
            "fc01698f-76ec-4c92-b698-c9798ed9c718_0L.png\n",
            "887474a5-90f8-4147-aa34-8dec68194496_0L.png\n",
            "e40931ab-b0cc-484d-a7ab-4ecf276d9e62_0R.png\n",
            "6b02cf80-8361-44e8-a76c-af6e68ce06df_0R.png\n",
            "75df3811-8ae7-4450-b0b3-e13088a87b82_0R.png\n",
            "f0ba626e-f911-4d1b-9a38-5674a5a2071e_0L.png\n",
            "1889c8b1-8411-42b0-91c9-0071bb32a8fc_0R.png\n",
            "925d577c-d280-4812-947d-8677590751ec_0L.png\n",
            "0c23caec-0a75-43d5-bc48-fac5a39955ba_0R.png\n",
            "bd050ee0-2261-4e44-93e8-8b4ad324b068_0L.png\n",
            "53314140-c6c2-422d-8a87-4e77229d6cb4_0R.png\n",
            "cea30df1-5686-46c1-b5a7-0fbcc0140cca_0R.png\n",
            "b513e09a-3749-4624-b5c2-15f3c92e65ed_0R.png\n",
            "8948f36e-e46a-4f50-bd90-72f17a0404e3_0R.png\n",
            "d11d9a49-7072-4ff4-819f-c247657649b4_0R.png\n",
            "b7f10953-9e28-430a-bb01-8b2bae2517c3_0L.png\n",
            "e5324648-65d7-4cb5-bc14-de57dd22b815_0L.png\n",
            "8d65ea76-b690-44a3-a4e8-d0ce5a693437_0R.png\n",
            "586071ea-0bd5-48d6-8758-67f8e20d6926_0R.png\n",
            "a3836563-4129-4e65-974d-0d1c9eabd306_0L.png\n",
            "811f992f-0e3c-4887-bd61-c94edfd3009a_0R.png\n",
            "e2e8fa12-a096-4a4a-bd84-69a75e07004e_0R.png\n",
            "431d305a-3ca6-4fa3-b27f-de19856f2c34_0R.png\n",
            "50afaab3-fb3d-4971-a710-b2a222059690_0R.png\n",
            "12fd1954-840e-4306-8310-11b4d58a1225_0L.png\n",
            "d1eb30d3-ca04-4ba5-a660-2d4d0c989b05_0L.png\n",
            "6b25ea11-b05f-4c4b-b553-065fd66026cb_0R.png\n",
            "71b75986-d0d6-48b9-8e3c-d6881ba8297f_0R.png\n",
            "a43fbe96-a5dd-483d-88e9-18343f54485b_0R.png\n",
            "f81a8604-5634-46ae-bc99-4f4e1335e882_0L.png\n",
            "553713fc-0d6a-439b-ad23-f606f355d5af_0L.png\n",
            "d4d795b5-2787-4f20-8d78-2138cda7aa09_0L.png\n",
            "3e8e8940-6185-45ea-b215-b66b0e690188_0R.png\n",
            "ec722d9f-1c50-4168-96bf-94544c914dd6_0L.png\n",
            "a5cbbbc6-4689-400a-9a35-595c644d4cf8_0R.png\n",
            "86c14dbf-8fec-4608-b2ef-5a6f7d000842_0R.png\n",
            "1ba85222-45c1-430e-b775-5342d4bbb6db_0L.png\n",
            "c3dfc1e4-b9fb-445a-b7e0-60ce5cd588c9_0R.png\n",
            "532371be-3616-42f5-ba1c-9cb7ebdb382f_0L.png\n",
            "1675ec19-8380-4ab4-a5dc-0259de9a01ab_0R.png\n",
            "c1fbe8ca-1f63-43cb-a434-d24dd15600bf_0R.png\n",
            "b4472fbc-878c-4ceb-8020-5651f68d607d_0L.png\n",
            "6baada43-ae97-49df-be45-c9d7e96a74c3_0R.png\n",
            "00ea02b9-e3ed-43a4-ab8c-eb8a1172ca06_0L.png\n",
            "819acacd-0f83-4e13-b545-139b1810567f_0L.png\n",
            "0e597af2-3256-442b-935c-753d2f505974_0L.png\n",
            "1b2e62f6-165b-4229-b39f-1c4c09f4ff4d_0L.png\n",
            "668b85eb-4665-4c58-b936-dc3da714e65b_0L.png\n",
            "c65d6d63-b067-4a76-b745-8a4b97c133e5_0R.png\n",
            "e536ca05-bcfb-4c32-aff1-7452823028ff_0L.png\n",
            "7c7b001f-55ed-4aea-88d2-607fb2945fa3_0L.png\n",
            "11547027-12d3-49a0-b87f-9f71fd3749b2_0R.png\n",
            "e4c3be2f-8033-48a1-8624-234546733524_0L.png\n",
            "aa4fd00f-3af3-4226-8a7a-7710ce5e163f_0L.png\n",
            "a789dffe-7b56-45fa-889a-7315e8dd880e_0L.png\n",
            "55e2c42b-a6f1-42f0-b554-83742b4cbeab_0L.png\n",
            "945e6860-23c6-4347-b97a-54f91b5a4132_0R.png\n",
            "9e26fa08-549e-4ef9-a414-47d4b652f28f_0R.png\n",
            "1de18e3e-956e-4666-ae60-e2dc23557d32_0L.png\n",
            "467f14dc-e8d7-4053-b4ad-29d0ff956c20_0L.png\n",
            "389a03d4-4b6d-429c-86a7-1fcb1190fa6f_0R.png\n",
            "c6af6e5f-fe5b-4846-ac48-9439f1ca2d86_0L.png\n",
            "35136b04-8097-4f34-8c65-d8337293bfa1_0L.png\n",
            "9d2a0963-64be-4876-92a2-733fd08437bf_0R.png\n",
            "1e03cbee-4531-4d5a-86b2-05872eeab560_0L.png\n",
            "3108333e-de45-4b2f-92f7-d094d06efb77_0L.png\n",
            "a5934153-7603-4e6c-af62-5fa81a58e919_0R.png\n",
            "82162fe4-de00-485e-ab64-80fce9b32763_0R.png\n",
            "6339c18f-2c75-4003-b5d3-573c8cbc37cb_0L.png\n",
            "787318cf-4f72-4efa-b0af-c6349fd1b621_0L.png\n",
            "85fb15c6-0dff-40da-b5e5-42629f3aca71_0L.png\n",
            "2a64a4a2-e0ab-4c90-9128-5c955150e4ea_0L.png\n",
            "d1173329-4d8e-4bd9-bc56-139f4e98cc38_0R.png\n",
            "01ba21a1-40d7-4f6f-895a-1dd838cea3eb_0L.png\n",
            "38ad009a-8e5c-4016-bf55-701d9427b9d7_0R.png\n",
            "5b3a92a7-28d0-430e-b5d3-d435d43ff39e_0R.png\n",
            "2a156711-2d4e-41fa-a4ea-b49c8cc54b61_0R.png\n",
            "119b894f-120b-46e8-b60a-d2324750649e_0R.png\n",
            "933925dc-f18d-4b8f-a413-92e8335370ba_0L.png\n",
            "0fd10941-c7c1-4001-907f-3ef08ad240f9_0L.png\n",
            "da5e3878-2164-410f-8c0a-3b28f7e6cdd9_0L.png\n",
            "65365186-cf18-4e2f-afc8-a86d0153df12_0R.png\n",
            "bd376e00-e5a8-4cd1-aaaf-b2669e36afa5_0L.png\n",
            "2725a675-5850-4413-bf4e-62163241d569_0L.png\n",
            "6b428e39-9e54-444f-8c02-885755664867_0R.png\n",
            "431942d1-e9cb-49ea-bec2-e00798a34005_0L.png\n",
            "0b9f13db-9e0b-47e3-a314-362a2ba89f2f_0L.png\n",
            "ae0db9de-bffd-4089-b491-77249b0c923a_0L.png\n",
            "0aa8a83c-a5a1-452a-aa82-0cdcc26372ce_0R.png\n",
            "2b1c9843-e88d-4a58-aac2-315be8f7c332_0R.png\n",
            "f8e9ed1b-8f4c-4b32-ab98-fb207c3273e3_0R.png\n",
            "813ea9fe-375d-4790-b7c7-12c319acf8a4_0R.png\n",
            "09406103-fdb2-4d3e-af6e-eb9f71325212_0R.png\n",
            "6907fd4e-7b07-4b87-a781-0376c483cb95_0R.png\n",
            "bf1f836f-ef9d-473f-98ed-e732cab621eb_0L.png\n",
            "37afcc6f-cf96-44ca-9cfe-e913ed078bac_0R.png\n",
            "e94cf2ab-0ffd-4494-8a2c-d83b8ec72c0a_0L.png\n",
            "ee0a4ee9-517d-4829-8e1b-3ae0ffccba84_0R.png\n",
            "5e3bbb98-f93c-4697-84c6-4c286e917aa1_0R.png\n",
            "bf588b29-9846-48b1-84f6-4bec778256ea_0R.png\n",
            "dadc4602-0a6d-4a5a-a221-2a4e72815669_0L.png\n",
            "f693067a-5a02-4b76-a55c-ed078851ad66_0L.png\n",
            "a4b5356c-9f52-4af7-8c42-d237448efc2f_0L.png\n",
            "553341df-1474-4319-8066-9768ef7e28fa_0L.png\n",
            "115fb739-e949-499e-b452-be32d7f4aa69_0R.png\n",
            "07305c9b-a520-43d8-995f-89a947dd793e_0R.png\n",
            "a2e55365-608b-47a8-a932-62300b575314_0R.png\n",
            "51db8822-49fd-4aa5-a00c-7c9622dcb547_0L.png\n",
            "c7beba94-a523-4784-bc2e-85acc37eef3b_0R.png\n",
            "c568afd4-7497-494a-9744-40d716d64aec_0L.png\n",
            "e01c6785-96ed-4179-a297-082e4ddc4e17_0R.png\n",
            "fd9a7af7-3039-4793-857d-478da287028c_0L.png\n",
            "65c5e88c-7060-4642-a1c6-8260a89810d3_0R.png\n",
            "1b57ef63-fb17-415e-b0b2-f5a6521b7d36_0L.png\n",
            "209a7fc2-4203-487a-93f0-d7d3cbd04c15_0L.png\n",
            "600d0997-608f-4161-af8e-66e922929e2d_0L.png\n",
            "6ffb553a-cf3c-4abc-939c-8e034eadcd7b_0L.png\n",
            "b771934d-8fdb-429a-8490-59c8ba5b30fd_0R.png\n",
            "00ab429e-7edd-4cf7-b6a6-25eec65d5cda_0L.png\n",
            "db4f188c-cc2b-4111-bdb1-e7ca3b8ec4a9_0R.png\n",
            "1a6b1452-b648-4696-8ad3-10f61d9f14e1_0L.png\n",
            "0afae4c3-6d5d-4dda-a054-cbea5b7bc9ed_0R.png\n",
            "f000ee3e-0539-4930-8c15-985cd914329f_0L.png\n",
            "2dc96a92-e1e8-47d0-b04b-45a136707921_0R.png\n",
            "30465794-bb7a-4b95-ad5e-b366e40d7ec1_0L.png\n",
            "28e672af-90c4-4326-bdac-e3d92a709107_0L.png\n",
            "f12216ce-9801-432f-ba88-89f883637294_0L.png\n",
            "85fd939e-e640-44cf-b17e-8620524bb0a7_0L.png\n",
            "7f9b5586-4021-40c3-b2d2-8625aa54ae0e_0R.png\n",
            "f5eb2608-b3bb-4b2f-8dc2-fe7dee9723b7_0L.png\n",
            "4af0ce8a-82d5-45a8-98b9-3594ee7980bd_0L.png\n",
            "b328b491-5262-4f44-b9fb-5491e19eff84_0L.png\n",
            "751d824f-aa5e-4b89-9300-70e54f299714_0R.png\n",
            "36812736-b4dc-4d06-a8fc-9af8cb570d2f_0R.png\n",
            "60e36a47-02a6-426f-8dd1-be75bcb04a72_0L.png\n",
            "3980cb1a-3b6a-4393-87d7-74113b1ebc8a_0R.png\n",
            "73f06473-b98d-4356-b7cc-b47e5b9ff932_0L.png\n",
            "fd67bf3b-0c5d-44f8-9408-8c1d653be5be_0R.png\n",
            "8d9a49b9-6d4c-46b5-8646-4820dbc8f66f_0L.png\n",
            "f5148852-1f4f-4915-9651-950637fb1f41_0R.png\n",
            "3a1493ae-470f-4976-acbb-ac5b4ebb82d5_0L.png\n",
            "43d000d5-d2ae-4960-ad67-9eb5b4853150_0L.png\n",
            "0fc02035-767b-4222-a416-29cc45c8c008_0R.png\n",
            "ac188869-e046-4b32-9175-3aa09893e22a_0L.png\n",
            "1a19ec79-9ebb-4910-ae2f-37d55dd80fed_0L.png\n",
            "3c01eed9-12da-4863-87b6-6735a00e132a_0R.png\n",
            "227a0795-838e-4fcd-b825-112d51d72c91_0R.png\n",
            "e4a95e5e-44b2-4562-beca-592cff83018c_0L.png\n",
            "c5c71c72-14ab-4a1e-bdcd-0e18fbfcb892_0R.png\n",
            "1e39ee25-6786-40d0-9c1e-dade2ae3dc9c_0R.png\n",
            "54aefb63-ecab-4d71-8546-d9a46be1048d_0L.png\n",
            "82c287bf-c2f1-4213-936f-fb56a653ed8f_0L.png\n",
            "bd9e04b4-64d1-408b-a47c-4a2663f5927e_0L.png\n",
            "80415b42-cc75-475f-8d75-fdf435a857d3_0L.png\n",
            "eb19df82-9e11-4178-aef7-17380a80d690_0R.png\n",
            "a430a6c8-f185-445e-a943-99012cad8240_0L.png\n",
            "3844ea2d-c25b-46a0-9603-f1f31b06a569_0L.png\n",
            "f365e4a7-d182-4c80-934b-8cbd7839bc9a_0R.png\n",
            "c3359fb6-08a9-41df-b065-29a4f96492b0_0L.png\n",
            "f1fd66b6-f478-4ef0-8fd9-ae4ce416d685_0L.png\n",
            "a3b69dae-a240-4bcf-87d1-88e9efd32a5c_0L.png\n",
            "cdd6c182-5edb-4382-9c0f-c529fde75287_0R.png\n",
            "2794d7ba-c00c-44cf-8521-8399db4bf852_0L.png\n",
            "3da317c7-cd74-4a5e-9784-f603dbb5d281_0R.png\n",
            "3d72b659-e7dd-4c5b-b144-c56c9e3cb3d6_0L.png\n",
            "6002b722-cd72-4e12-b20c-327961523330_0L.png\n",
            "e261f9e2-14e0-47ac-9811-5e6551c5697f_0R.png\n",
            "92fcf2ea-2146-4103-85dd-19bd9b1e2194_0L.png\n",
            "17010bdb-c197-4f38-965a-9d8d6f0bf4a0_0R.png\n",
            "4635795f-d678-4fc9-9d80-086dd9db7d0b_0L.png\n",
            "75f64749-5092-4fea-b1f2-5032341f4038_0L.png\n",
            "8265ec3a-4cd5-407b-a99a-46aa8540f80e_0L.png\n",
            "c7934f3f-9ebc-4674-8c85-2ed117adedd6_0R.png\n",
            "d560fefb-c280-4d3b-ad31-3c358efbce12_0L.png\n",
            "826a8998-eca0-4db8-8ccc-f0851ecb58d1_0L.png\n",
            "dcf59be0-6e5f-4f2a-a298-d5d8162a5fd4_0L.png\n",
            "83c10f56-3e88-4eb1-b042-49dde9852c5e_0L.png\n",
            "6792b819-925d-4292-8a56-318221bc899d_0R.png\n",
            "ff4c0a74-9223-44c6-bc48-e2b804e8b52f_0R.png\n",
            "470d9f42-5b4c-44f6-8126-c2017f9b38c5_0L.png\n",
            "f0b05f76-0649-44c5-8635-9c7748eafd8f_0R.png\n",
            "ad8792ec-9414-49c6-9d48-171646fda3f6_0L.png\n",
            "82b2020d-7521-4f37-b981-8e1f69e04fea_0R.png\n",
            "de0d12c8-21e2-445a-acb8-7d4bf14b4d84_0L.png\n",
            "e52b872e-be94-4b02-b9f4-33a2758f40e7_0R.png\n",
            "4297dd18-bc5a-44b0-856e-599db215d25d_0L.png\n",
            "bf31a84f-1312-4d74-b68c-7d5d7125e53a_0L.png\n",
            "e310e741-02dc-4b3b-9b8c-b8e72f9ad386_0R.png\n",
            "06420065-3e5f-4d26-af89-014bc95501c3_0R.png\n",
            "a893c179-4e1e-4547-8076-78eea0c72a8f_0R.png\n",
            "22c31a32-cdae-4643-9635-ff1c85f1e848_0L.png\n",
            "fbebb627-0bf0-4588-9cde-661bb79d2fd2_0R.png\n",
            "e370316c-cfd5-48ae-b941-6e74f98d315b_0R.png\n",
            "40f50fc0-1cc7-4fd3-a4f8-2466857240d5_0R.png\n",
            "677444e4-a112-4428-8296-a5ca14fdec41_0R.png\n",
            "35243079-cf89-4892-8386-6049f546f5cd_0R.png\n",
            "6bb59fbf-d97f-4bc2-b6a3-f93bd75309ce_0R.png\n",
            "d3a31ec0-372b-492b-a4c4-ffc0c2a420e3_0R.png\n",
            "98ba5489-a892-4040-b102-c90e2a740ac7_0R.png\n",
            "06c3fb51-2fea-4d52-b4a9-43db07a48d25_0R.png\n",
            "02cd9ff2-4d20-4d74-a12b-502098c0281e_0R.png\n",
            "1d33cc29-b9c4-4858-8117-563f8fe0fc78_0R.png\n",
            "f848d02c-922c-4747-9af6-8b16a28e3149_0L.png\n",
            "5f9b6561-4824-492a-9337-9b9fc5dd2617_0L.png\n",
            "ad1b13ca-f19c-4882-b084-47f2d0883f00_0L.png\n",
            "9f14fca8-4acf-444f-92ff-e6e8cf104a98_0L.png\n",
            "e4895239-2f5c-447f-ae3c-9bac222cb724_0R.png\n",
            "3e734881-0518-4946-8de2-a2de75149d60_0R.png\n",
            "e7f6107b-574b-4141-9c7b-c4dbe8519c99_0R.png\n",
            "8992cb80-e0bc-4ded-b650-61df09f354cd_0R.png\n",
            "3f90bf96-d9a0-4ed0-85d2-cf212a36c6ac_0L.png\n",
            "62531cbb-27e9-484c-999f-74409c3bee67_0L.png\n",
            "fd68e001-34a8-4f66-9678-19d60cbb832f_0R.png\n",
            "de8d6242-20e8-42d1-8f89-33292b0f4b1c_0L.png\n",
            "86630ed7-b520-4a23-ae6e-d0ef7a955b52_0R.png\n",
            "5b82e3bf-f7f3-4728-b369-4c18a0f4363e_0R.png\n",
            "f808b928-33e5-4eec-bd81-e4d0c4108497_0R.png\n",
            "87c9719b-cadb-4a0e-9cc7-cb638130a3d7_0L.png\n",
            "40580711-4be7-4bfd-9fbc-4195b8a453f3_0L.png\n",
            "15500cfa-fa39-42a4-ae36-bd8e882fb7e7_0L.png\n",
            "c98eb3d8-57b6-4a64-a3dd-095d4cb70e13_0R.png\n",
            "499f06ea-035c-454b-8e17-67e0976b423c_0L.png\n",
            "1ec3f730-3c9d-4733-b650-0e15b8be2b42_0L.png\n",
            "d0b64c1b-5c2f-4162-8684-84db9f4312df_0L.png\n",
            "75fccd00-b5aa-4065-9c04-08a68ce6e963_0R.png\n",
            "6507afc2-6d26-4f09-b1fe-648971c7dc5b_0R.png\n",
            "375eec4b-145e-4122-a59d-004225779fa7_0L.png\n",
            "ae52c9a9-2687-4ca9-b53a-f27ded47bcb0_0R.png\n",
            "1969d27c-3016-401b-8323-c71f5e7d3ec6_0L.png\n",
            "58593779-8035-4d6c-9ba5-08514772e704_0R.png\n",
            "5c2887a4-66d5-4a8b-bfd1-480af73b99de_0R.png\n",
            "88a55fa8-fdf4-44ed-8639-c48fe4717bc9_0R.png\n",
            "8e26177a-92bd-4554-9f27-e7bb84cc0e35_0L.png\n",
            "0d89fbe8-df08-45e4-940a-3c974c8a34ec_0R.png\n",
            "b0aad63e-d9a8-459e-b74c-5342f99f09cb_0R.png\n",
            "9d11a401-3dbf-4ac5-a3d9-ae579e17adc7_0L.png\n",
            "f409cd3e-47fc-423e-aa89-7a60a94cfe13_0L.png\n",
            "2718f24a-614d-4513-bb58-c3dec89d02d6_0R.png\n",
            "d0059f5d-95c0-4502-be4c-245cf9764208_0R.png\n",
            "617f94b1-d4af-4e0a-be4a-6eaa720a3745_0L.png\n",
            "2d3e4480-ddd4-4a4a-9190-98094339b5da_0L.png\n",
            "9c7fa5bb-ef93-4db5-9f38-a3ae31700a9f_0L.png\n",
            "e49588ea-c4ff-4e92-9245-67288c0fe3d3_0L.png\n",
            "018a8903-ffb6-4028-a811-c9104be11943_0R.png\n",
            "273ce906-8209-42fa-887c-404e57fee581_0R.png\n",
            "7e5452b5-dbd3-44b1-9024-a668703ff725_0L.png\n",
            "7b66bd3d-9a34-4d73-bc38-2c8647b64d96_0R.png\n",
            "3eb0936a-ad6a-4377-9fad-fa615ccc4fed_0R.png\n",
            "303f0e97-c27f-41d8-a13a-19874d586459_0R.png\n",
            "1b32075d-9f96-4432-a9b1-e7016ea4a4b4_0L.png\n",
            "72cc3fbf-7c2c-44bf-8c6c-8fcfe73f1601_0R.png\n",
            "11968742-2ebf-457d-85a1-a039ad97b997_0R.png\n",
            "77590134-5177-4b78-b7a3-d72f2ecc1b6b_0R.png\n",
            "1c55ea03-c5ce-402a-94d9-56a3b07bb831_0L.png\n",
            "c252343b-47ce-4f90-b7b3-207a8238fbc2_0R.png\n",
            "87e31806-60f0-4db6-8e9c-5db60b4adc84_0L.png\n",
            "959652f3-c720-4cd6-9027-94d262bb4e36_0L.png\n",
            "b7acd9e8-bb5e-4226-b40a-6cfd32f843f2_0R.png\n",
            "16e0a940-9251-4229-b521-98cc511e4250_0R.png\n",
            "d430ec50-c342-4815-982e-2fcb4efa4ded_0R.png\n",
            "10fe52cd-2bfa-478d-91c2-7ad5bf641443_0L.png\n",
            "4be31d2e-bb92-4b03-819c-ee80d6ddf792_0R.png\n",
            "2f5be561-0539-4fb6-a77d-019170877b41_0L.png\n",
            "3aa6b035-b167-44f9-8ef1-b1eec602130c_0R.png\n",
            "aaf2667e-9337-4eca-88db-8faa30bf7a09_0L.png\n",
            "34020654-93e3-4cac-ab5c-c0f18f6968cf_0L.png\n",
            "d91fc3ed-7052-4de1-9991-e69f6ea3e164_0R.png\n",
            "78171152-e08c-4366-a596-3b387a2b8f98_0L.png\n",
            "87601d4c-b95f-4d4d-b0e6-844c6c2da02b_0L.png\n",
            "f7402d50-d256-4323-a46f-f73f6eea8a65_0R.png\n",
            "cfe08356-b7a2-42f5-8823-6d89012155ac_0L.png\n",
            "e8f7c146-79fc-4bfb-b9a0-12b0fcf96ebc_0R.png\n",
            "8c4678bf-9557-4890-9afa-efb28996d6bd_0L.png\n",
            "971c7190-d53c-4cac-a97d-5d0b2ad6956e_0R.png\n",
            "0cceab3a-5ce8-4ec9-9d63-a29751569968_0R.png\n",
            "9ed23c20-bf0d-4051-b6d8-8342d034248c_0L.png\n",
            "0d2ecf58-2dd0-4344-bbf8-a697161847d3_0R.png\n",
            "7ca5fbf1-4f46-4d42-8e44-01c1bc767026_0R.png\n",
            "6512591d-c178-47e5-aff0-11617053eeea_0R.png\n",
            "69f50b8c-b55f-41b7-9a15-231f64062b61_0L.png\n",
            "10c0aef2-ab48-4e26-b741-2c50651136f0_0L.png\n",
            "e44123d1-9f1b-43c5-9241-45c3a118888f_0L.png\n",
            "6680eb22-21db-4fb9-94bc-614ba49e7ea4_0R.png\n",
            "41ed9040-538d-47db-9a20-65c367ec8bd4_0R.png\n",
            "3bc22acb-3141-4db2-bce2-c321163881e1_0L.png\n",
            "161245bd-e3e8-4ce6-980f-97f3a8f337ba_0L.png\n",
            "912df644-66ff-4277-9649-c1fb6d27d160_0L.png\n",
            "0c76805f-3edd-472b-82d2-17d48248be55_0L.png\n",
            "76abbc4a-f6d5-4583-aadb-9da6f80f3b8a_0L.png\n",
            "18ef9535-0d14-4a6d-be11-03ff09cf95b5_0L.png\n",
            "b986d8a5-01b5-48ac-afa2-011fdf5f536c_0R.png\n",
            "eddcdea5-3053-4f06-b9ed-bdd473b03b9f_0R.png\n",
            "40859268-ad2d-42af-be2e-4bb34dd00cf4_0L.png\n",
            "3e47f238-ab57-4c76-a3d3-6d00860dd596_0L.png\n",
            "a3095ed3-fa67-4016-8ca5-b88cc6a8c092_0L.png\n",
            "266a4f1f-3ec9-45b0-a009-b1f61796dc5d_0R.png\n",
            "486d97ea-ac7b-43e0-9c8a-999f4b7cfbe9_0L.png\n",
            "893c5177-92af-4f11-8495-29f349e140a4_0L.png\n",
            "1d9a68e3-c43b-479e-9946-0d0ea187d909_0R.png\n",
            "3b8cd133-a50e-4ed0-9bf3-981c7d83da7f_0L.png\n",
            "13b9d56d-ff5a-4114-9526-06387107ea7f_0R.png\n",
            "057f35e1-8198-4571-b173-14f7095dc883_0L.png\n",
            "b4eda56e-3a06-407e-801c-293545f3cf1b_0L.png\n",
            "c01cd528-068d-4ff8-a492-97eae3b931bf_0L.png\n",
            "df767266-1d8d-4acd-b8f5-d39bb4248dbb_0L.png\n",
            "c98f6dd8-b7d9-42bd-a7b5-d9220a3b8876_0L.png\n",
            "70e6660a-4bc3-4552-9335-fde89d0b12c5_0L.png\n",
            "707eb38b-500b-4bde-89f4-c93dffc859da_0R.png\n",
            "82c9e36b-f9eb-46c9-b310-127f46ba6f0e_0L.png\n",
            "b7dd66f0-6340-4d21-b09e-29e6c0af611c_0R.png\n",
            "2b6ca771-715e-425f-a1a9-eac1a8ecce20_0L.png\n",
            "fa9e333c-5478-46fd-a31b-00eb6d18b5e8_0L.png\n",
            "684f79b7-50b7-4bd1-a579-6d7bc1807f3e_0L.png\n",
            "8f3da36d-eb9d-4631-ade0-58f79a48d464_0L.png\n",
            "3751a7ae-7e1d-4b27-b346-baabd09fed36_0L.png\n",
            "a57e2e47-23cc-4b32-ba42-eec3af085647_0L.png\n",
            "8526550a-f527-487c-a294-ca57e74309d5_0L.png\n",
            "43009ff1-7640-45ff-b28c-27abdc3278a8_0R.png\n",
            "07409240-e403-41ad-8e60-32553323a99c_0R.png\n",
            "19fd73e4-ab63-4b75-9666-f0cefd7156f3_0R.png\n",
            "32f64ec9-73bc-4846-a9f5-5bfe75974b83_0R.png\n",
            "3782c362-b5ed-413b-80d8-432b8f510341_0R.png\n",
            "cd5e16c1-d410-46fc-aeb0-7e1c8a81c029_0R.png\n",
            "357c5316-ef09-46d8-a0be-66794b3f6e14_0L.png\n",
            "1e6e3504-d2d7-4c91-979d-e4d13ffb3081_0R.png\n",
            "7c560607-e4bc-4a0e-ad3c-2c268d979aa2_0R.png\n",
            "8ab6780a-bddf-4b08-bf34-bc65935f2810_0R.png\n",
            "a67e9083-346d-4c22-a5c6-274b8d007c5c_0R.png\n",
            "00ebf839-9cfc-4b90-91ff-e57ec2e76ee3_0R.png\n",
            "c90c5b78-0aa9-492c-8caf-966b8d4e2981_0L.png\n",
            "8b47c023-77ea-43de-b97f-dda727a326a5_0L.png\n",
            "76a22b02-2f07-4f5c-a693-38f1e2fe65a1_0R.png\n",
            "21f0fb68-7795-4901-ba38-2883115a26b9_0R.png\n",
            "d4efaf3f-a29e-403d-9d2e-6b412dfece8f_0R.png\n",
            "575cc791-6a78-4881-9ec3-81a6ab3b622c_0L.png\n",
            "bb827812-2d0a-40b2-8baf-7cea1b88611a_0L.png\n",
            "b5599ca2-2ea4-4e12-ba4b-347966e1b4d8_0R.png\n",
            "a538d986-ac9a-4106-822e-85972dc4dde4_0L.png\n",
            "0900dbf7-915c-4aca-91b5-d1437f733e65_0L.png\n",
            "5d47ffa9-e9fd-415d-bb25-40a22f050c42_0R.png\n",
            "b874a7a6-40fa-439d-8a4c-be5211728c19_0R.png\n",
            "2a63c7a8-a2de-4fb1-bc91-3fad45c58a80_0L.png\n",
            "2abd24c7-3d2c-47fd-9322-82be0a0eaaf1_0R.png\n",
            "46c0f727-49c6-448b-804a-dbbfaaddc374_0R.png\n",
            "bbca0216-e7e2-4a0d-915b-0b42b6a802fc_0R.png\n",
            "40c68e84-07a1-4c52-97b1-09acc403ec2b_0R.png\n",
            "7ae1a6b3-cc59-4da7-9779-1b2d961a470a_0L.png\n",
            "fc1c2d9e-4b04-409d-8c9e-ed2ad7772171_0L.png\n",
            "ce703931-7363-4959-abfb-733b0ede3311_0R.png\n",
            "4194bf11-24ca-44d7-a888-8310a15df6c6_0R.png\n",
            "52a89e7e-b70d-4bf0-94a0-ae58e62b668c_0L.png\n",
            "1b24ef22-5530-4129-823b-846dd3dc3e8a_0R.png\n",
            "ff8be861-dd82-4500-893f-e9b6e299c5e1_0L.png\n",
            "2393f918-d0ad-4575-9be8-7b70df48bc8a_0L.png\n",
            "77aae0a4-e1bb-44ce-a1b1-826dac78d21f_0L.png\n",
            "02296f11-9ee0-4c5d-ae19-c323cd328d54_0R.png\n",
            "1011f6a5-30e2-4bc7-ac6f-311c52635853_0R.png\n",
            "d4e83f7a-d1f8-4500-bb3d-c6b2dc948ad2_0L.png\n",
            "368d7208-ff29-4e39-8ca7-38ad0c5e0bbd_0L.png\n",
            "5593e26a-10e4-4ccf-9d71-a31fd6c7c8fc_0R.png\n",
            "5da7b6b6-e2b3-4d82-9f22-708d6c28179a_0L.png\n",
            "91b1d77f-c305-4646-b56d-cd7c8cce0323_0R.png\n",
            "268d7f82-be9f-4c03-8135-a41c577cdda9_0R.png\n",
            "f4523904-7c47-465b-b31e-85408a6f192e_0L.png\n",
            "9d077c19-2bb0-4a1c-9b2c-c9a820ae6ee5_0R.png\n",
            "918552e0-7dbb-4d03-a068-eb76a1a41182_0L.png\n",
            "2fa8b305-738d-4dfe-ae05-da96e8bef091_0L.png\n",
            "5dc843ce-3b95-4ed1-a1ac-a0d80c6e221c_0L.png\n",
            "34b55844-772d-4fb8-881c-75e5a16af7f6_0L.png\n",
            "99c0e941-7cd8-404b-842a-14dec3150fec_0L.png\n",
            "1cf2cc43-c211-4e64-80b5-5c6e617dd06f_0R.png\n",
            "6296cf9e-7838-4bcd-9335-f65580293bd8_0R.png\n",
            "831253e1-bc8d-40b2-b9c7-fea97bbdbc8c_0L.png\n",
            "fb947363-86f5-4598-8239-398e3028fb87_0L.png\n",
            "fad2a32c-d236-4262-9857-4d0dd2372d78_0R.png\n",
            "10bcfacc-7322-47ff-9985-514a6b1979a5_0L.png\n",
            "eb407838-88e0-46fd-a73b-7a30e9777638_0R.png\n",
            "c17867dc-ce8c-4ff7-a049-6a59ca8f8182_0L.png\n",
            "c59e6cbe-796b-4a99-b6fa-ca6855438899_0R.png\n",
            "2a353491-ba17-46fb-8ff3-61401b5a468a_0R.png\n",
            "1c7f3443-9560-40e9-b86b-6933d5c8b372_0L.png\n",
            "db9061cb-def7-4764-933c-f2d90a26f28c_0R.png\n",
            "56de9c61-0f7a-4d4c-a8b9-37dd5add3e12_0L.png\n",
            "13be0e13-56da-4073-a3c8-af5c6d209d80_0R.png\n",
            "e84d7ce5-dab6-42d6-8bda-0e95eab5e1fe_0L.png\n",
            "18853674-c8c3-4ba9-99aa-1e4796e3cb79_0R.png\n",
            "7238988f-440d-4ba6-b815-45aec884ba28_0L.png\n",
            "d66a3aab-99e9-4ecd-a8de-064f02a4ea55_0L.png\n",
            "4f23c323-8240-4b13-8cd7-14da10523921_0R.png\n",
            "3c9f18b7-fd77-46ac-8b31-0f653ce34a08_0L.png\n",
            "a5fca367-67ea-48b1-b040-161dac91d365_0L.png\n",
            "e93ceba2-75b5-4f75-9813-5a1e1e6fc282_0L.png\n",
            "7f5e13c8-3520-4f87-bdbf-fbf7f5496d58_0R.png\n",
            "ecc2bdd5-e6ff-45e9-b1dd-747f6f4e37d2_0R.png\n",
            "2c2aeddc-9a47-4306-aba2-80cec152a435_0L.png\n",
            "9e0d9144-d752-4b5b-beb1-ba2a2b4f9899_0L.png\n",
            "0218871e-c88c-4661-9380-e1a20a4d56b4_0R.png\n",
            "e1231372-8fc0-45be-b87f-2048b47e4acc_0L.png\n",
            "72d0fb6f-da07-4624-8810-57322d3ef68d_0L.png\n",
            "5fcc18d6-1eea-4811-b3d7-f0aeb92d8b58_0R.png\n",
            "f929f5ed-a56d-4dd8-8c54-1bc10b53ffaf_0L.png\n",
            "ecebe142-11d2-45d9-88bf-a0b762587041_0R.png\n",
            "7fd3f784-4d17-4463-a971-c645ef00532b_0R.png\n",
            "828e1491-4aea-4443-91a4-cbf1a0541f57_0L.png\n",
            "4119fe9b-edd8-4c86-a1fa-490a2cb4797a_0R.png\n",
            "b9b4dfc7-eef0-457c-b97b-59d88d0126c0_0R.png\n",
            "765f8bce-87b0-441f-9156-689ff8762e50_0R.png\n",
            "e008f1a1-130c-4f2c-878b-683e194303b1_0R.png\n",
            "7ddfa032-4a3f-472f-ab66-c7200223adc5_0R.png\n",
            "e54057fc-4e21-4539-8893-90345d4bdf1c_0L.png\n",
            "51a30436-26ae-4659-95be-dc6a1c8ec4f9_0R.png\n",
            "1c657077-8498-42e9-808d-84c66a418d01_0R.png\n",
            "a280ddd8-12a7-4972-9103-2948754a3032_0R.png\n",
            "50c781f7-4f97-4611-8526-9a597118d4ad_0R.png\n",
            "37a68071-ad59-4cb1-b330-8e512354203e_0L.png\n",
            "d06d46f0-a126-4873-b096-c1d8c7aabb8e_0R.png\n",
            "58c062d5-9f9f-47cd-bd43-056a9c2f5f99_0L.png\n",
            "bbe3f76f-5441-47c6-a489-bfbc9fe6683f_0L.png\n",
            "146e3bd6-34eb-4d97-8c94-c58d5a8a30bf_0L.png\n",
            "3ab0359a-1a2b-4024-aeeb-616ff5e89494_0R.png\n",
            "7f9c9f1b-bd13-4528-bd7e-685feeedaa32_0L.png\n",
            "5fd4a5a5-b103-464f-8268-4d40ddc0eb68_0R.png\n",
            "d330b5c4-f76e-4a8d-ada5-e05243958f8f_0L.png\n",
            "654209b9-c2f8-40a7-bd1d-f704358173f3_0L.png\n",
            "8bf55b9c-046b-4020-87a9-d4fdb0729351_0R.png\n",
            "3e659093-3fcd-493c-a3d5-993a3d1c4a1e_0R.png\n",
            "75951af2-83f1-47e4-96e8-327f8f2a3cc0_0L.png\n",
            "03fa1428-de45-4945-b276-4c545f272a47_0R.png\n",
            "7fa9ce40-d728-4ec7-b318-a3b3c1371a27_0R.png\n",
            "3a446a34-2090-4567-bfbc-198a38913510_0L.png\n",
            "65bb39ba-6b1e-44c9-88ed-9c0c6a82e5e7_0L.png\n",
            "a1dda57a-a73f-4d13-89f4-9e03d4084a05_0R.png\n",
            "df773043-21bc-4fed-b6a7-cd6007994544_0R.png\n",
            "1654babd-1b33-4a4d-894a-d0a991337614_0L.png\n",
            "a9bc2074-d476-4e29-aa77-901aed6fb742_0L.png\n",
            "4eff9b17-cbda-401e-9144-95d05e829197_0R.png\n",
            "4b286a99-68e7-4c58-a602-90aa79a2c7e5_0R.png\n",
            "598c8694-51de-4531-92c6-75df98d0e301_0L.png\n",
            "5ff264e2-efb3-4753-bd4b-1040b4ea3978_0R.png\n",
            "5e17c61f-d746-4e1d-9221-127e5fa1b4b3_0R.png\n",
            "eae4a941-101d-49b5-a63c-6a8f15181151_0L.png\n",
            "a718a13f-fc37-4beb-897b-8e9ba9a30037_0R.png\n",
            "4ae18e15-bf55-4e54-857c-6add29bbcaf9_0L.png\n",
            "a4485aad-5e0d-4d6b-bb33-059e84582484_0L.png\n",
            "36823bdb-2ce1-4fd8-b6cc-1fd781e4d202_0R.png\n",
            "847fa1c0-e18c-41d8-9a45-d1e29b3498dd_0L.png\n",
            "df0b07ee-c800-4733-8793-3d8c195175fd_0L.png\n",
            "d3b28b50-7fee-40b2-9b42-86634925a6e1_0R.png\n",
            "24b86874-ce63-4478-bb14-3cb75b45624a_0R.png\n",
            "d4da4518-806b-4d0c-a89f-d227e45611c9_0L.png\n",
            "5ab294e0-04d3-4ecd-8fd9-7a050a5dde4e_0R.png\n",
            "ae2ff50e-c21a-49ca-9508-f903221d603e_0R.png\n",
            "3683593b-7219-4272-a7dc-75110d8e3e4d_0R.png\n",
            "349df2ca-968a-4c3a-982e-ae04396b5155_0L.png\n",
            "b0659cdc-60af-4678-a2d5-a3f171d09787_0R.png\n",
            "ff56c729-23f6-489b-9c10-ce1f95208801_0L.png\n",
            "94b17026-6cd7-48f4-954b-78eb17743ee9_0R.png\n",
            "a2663ed7-87d7-47a8-b156-f044e807bc47_0L.png\n",
            "30a80899-396b-4300-b062-dafd3a52303b_0R.png\n",
            "d5dcc4b2-6f6d-4f04-8d67-fc8f0086c078_0R.png\n",
            "421984d3-3225-49c0-bf86-b9bc914a260c_0R.png\n",
            "4816587b-bf7b-4bde-82c0-6ec886b8fe9d_0R.png\n",
            "6e3cff25-4d48-4ee8-8460-ca353d1bbf7b_0L.png\n",
            "27949870-651a-4c46-a9ef-b724e3651449_0L.png\n",
            "4afd8306-b0c2-4eca-8b81-f2ea2ed6b50d_0L.png\n",
            "20ac8096-ecc4-42ab-8152-de7dadc01146_0R.png\n",
            "6ece360f-3ca5-452b-a873-aff1c9544e44_0L.png\n",
            "c3cf189a-fb74-4e4b-8283-5246073c405c_0R.png\n",
            "26a10991-aaf2-4093-a97d-8fe8e9ac720f_0L.png\n",
            "438c1964-1502-4471-a29f-3ae8c285e6c4_0L.png\n",
            "e0f8614e-b0fa-4cd8-87e1-b305e8370fc8_0R.png\n",
            "846d886b-6a9d-45fe-93ee-99f717792d98_0L.png\n",
            "cc98ec41-a92b-472e-b4b7-f182818aa42a_0R.png\n",
            "32c01a97-e031-4bdc-ad8e-958e3a824c3d_0R.png\n",
            "2d0fc140-0a89-47a6-8c7c-50171c455974_0R.png\n",
            "1e307d01-b9a0-427e-b676-d311fde8f6e5_0L.png\n",
            "440d7784-2b45-45de-8cc3-a5c9979a04bd_0L.png\n"
          ],
          "name": "stdout"
        }
      ]
    },
    {
      "cell_type": "code",
      "metadata": {
        "id": "j6pfAaW8XyRn"
      },
      "source": [
        "for filename in os.listdir('/content/fingers/train'):\n",
        "  #print(filename[-6])\n",
        "  if(filename[-6]=='5'):\n",
        "    shutil.move('/content/fingers/train/'+filename, \"/content/train_data/5\") \n",
        "  elif(filename[-6]=='1'):\n",
        "    shutil.move('/content/fingers/train/'+filename, \"/content/train_data/1\") \n",
        "  elif(filename[-6]=='0'):\n",
        "    shutil.move('/content/fingers/train/'+filename, \"/content/train_data/0\")"
      ],
      "execution_count": null,
      "outputs": []
    },
    {
      "cell_type": "code",
      "metadata": {
        "id": "5vgdbXXDX0dh"
      },
      "source": [
        "base_dir = '/content'\n",
        "\n",
        "train_dir = os.path.join( base_dir, 'train_data')\n",
        "validation_dir = os.path.join( base_dir, 'test_data')\n",
        "\n"
      ],
      "execution_count": null,
      "outputs": []
    },
    {
      "cell_type": "code",
      "metadata": {
        "id": "eATkjmZGevfC"
      },
      "source": [
        "train_datagen = ImageDataGenerator(rescale = 1./255)"
      ],
      "execution_count": null,
      "outputs": []
    },
    {
      "cell_type": "code",
      "metadata": {
        "id": "bfsCeS93fBWC"
      },
      "source": [
        "test_datagen = ImageDataGenerator(rescale = 1./255)"
      ],
      "execution_count": null,
      "outputs": []
    },
    {
      "cell_type": "code",
      "metadata": {
        "id": "Il0A1uLLhY9k",
        "colab": {
          "base_uri": "https://localhost:8080/",
          "height": 34
        },
        "outputId": "d769a2ae-1989-48e6-f64f-acb3f599ac7d"
      },
      "source": [
        "train_generator = train_datagen.flow_from_directory(train_dir,\n",
        "                                                    batch_size = 32,\n",
        "                                                    class_mode = 'categorical',\n",
        "                                                    target_size = (150,150))     "
      ],
      "execution_count": null,
      "outputs": [
        {
          "output_type": "stream",
          "text": [
            "Found 9000 images belonging to 3 classes.\n"
          ],
          "name": "stdout"
        }
      ]
    },
    {
      "cell_type": "code",
      "metadata": {
        "id": "PCIPk0aMhcSy",
        "colab": {
          "base_uri": "https://localhost:8080/",
          "height": 34
        },
        "outputId": "f9d4676b-e34c-4bf5-fab1-b01e188a0677"
      },
      "source": [
        "train_generator.image_shape"
      ],
      "execution_count": null,
      "outputs": [
        {
          "output_type": "execute_result",
          "data": {
            "text/plain": [
              "(150, 150, 3)"
            ]
          },
          "metadata": {
            "tags": []
          },
          "execution_count": 15
        }
      ]
    },
    {
      "cell_type": "code",
      "metadata": {
        "id": "aOoCiK2Fhfwd",
        "colab": {
          "base_uri": "https://localhost:8080/",
          "height": 34
        },
        "outputId": "a7e22155-28eb-4f93-bd5c-4a277aabd3de"
      },
      "source": [
        "validation_generator =  test_datagen.flow_from_directory(validation_dir,\n",
        "                                                        batch_size  = 32,\n",
        "                                                        class_mode  = 'categorical', \n",
        "                                                        target_size=(150,150) )"
      ],
      "execution_count": null,
      "outputs": [
        {
          "output_type": "stream",
          "text": [
            "Found 1800 images belonging to 3 classes.\n"
          ],
          "name": "stdout"
        }
      ]
    },
    {
      "cell_type": "code",
      "metadata": {
        "id": "8v050fi9jJsb",
        "colab": {
          "base_uri": "https://localhost:8080/",
          "height": 564
        },
        "outputId": "68cc173d-2550-461a-90b7-e3458daf0102"
      },
      "source": [
        "\n",
        "model = tf.keras.models.Sequential([\n",
        "    tf.keras.layers.Conv2D(64, (3,3), activation='relu', input_shape=(150, 150, 3)),\n",
        "    tf.keras.layers.MaxPooling2D(2,2),\n",
        "    tf.keras.layers.Conv2D(128, (3,3), activation='relu'),\n",
        "    tf.keras.layers.MaxPooling2D(2,2),\n",
        "    tf.keras.layers.Conv2D(246, (3,3), activation='relu'),\n",
        "    tf.keras.layers.MaxPooling2D(2,2),\n",
        "    tf.keras.layers.Dropout(0.5),\n",
        "    tf.keras.layers.Flatten(),\n",
        "    tf.keras.layers.Dense(128, activation='relu'),\n",
        "    tf.keras.layers.Dense(3, activation='softmax')\n",
        "])\n",
        "model.summary()"
      ],
      "execution_count": null,
      "outputs": [
        {
          "output_type": "stream",
          "text": [
            "WARNING:tensorflow:From /tensorflow-1.15.2/python3.6/tensorflow_core/python/ops/resource_variable_ops.py:1630: calling BaseResourceVariable.__init__ (from tensorflow.python.ops.resource_variable_ops) with constraint is deprecated and will be removed in a future version.\n",
            "Instructions for updating:\n",
            "If using Keras pass *_constraint arguments to layers.\n",
            "Model: \"sequential\"\n",
            "_________________________________________________________________\n",
            "Layer (type)                 Output Shape              Param #   \n",
            "=================================================================\n",
            "conv2d (Conv2D)              (None, 148, 148, 64)      1792      \n",
            "_________________________________________________________________\n",
            "max_pooling2d (MaxPooling2D) (None, 74, 74, 64)        0         \n",
            "_________________________________________________________________\n",
            "conv2d_1 (Conv2D)            (None, 72, 72, 128)       73856     \n",
            "_________________________________________________________________\n",
            "max_pooling2d_1 (MaxPooling2 (None, 36, 36, 128)       0         \n",
            "_________________________________________________________________\n",
            "conv2d_2 (Conv2D)            (None, 34, 34, 246)       283638    \n",
            "_________________________________________________________________\n",
            "max_pooling2d_2 (MaxPooling2 (None, 17, 17, 246)       0         \n",
            "_________________________________________________________________\n",
            "dropout (Dropout)            (None, 17, 17, 246)       0         \n",
            "_________________________________________________________________\n",
            "flatten (Flatten)            (None, 71094)             0         \n",
            "_________________________________________________________________\n",
            "dense (Dense)                (None, 128)               9100160   \n",
            "_________________________________________________________________\n",
            "dense_1 (Dense)              (None, 3)                 387       \n",
            "=================================================================\n",
            "Total params: 9,459,833\n",
            "Trainable params: 9,459,833\n",
            "Non-trainable params: 0\n",
            "_________________________________________________________________\n"
          ],
          "name": "stdout"
        }
      ]
    },
    {
      "cell_type": "code",
      "metadata": {
        "id": "nTzzm0b8jTfR"
      },
      "source": [
        "model.compile(loss = 'categorical_crossentropy', optimizer=RMSprop(lr=0.001), \n",
        "              metrics=['accuracy'])"
      ],
      "execution_count": null,
      "outputs": []
    },
    {
      "cell_type": "code",
      "metadata": {
        "id": "QpK2zj-HjatO",
        "colab": {
          "base_uri": "https://localhost:8080/",
          "height": 170
        },
        "outputId": "9deed1d3-fab5-4c3b-8f14-f96393b6b899"
      },
      "source": [
        "history = model.fit(train_generator, epochs=3, steps_per_epoch=23,\n",
        "                    validation_data = validation_generator, verbose = 1, \n",
        "                    validation_steps=10)"
      ],
      "execution_count": null,
      "outputs": [
        {
          "output_type": "stream",
          "text": [
            "Epoch 1/3\n",
            "22/23 [===========================>..] - ETA: 3s - loss: 1.2400 - acc: 0.5668Epoch 1/3\n",
            "23/23 [==============================] - 91s 4s/step - loss: 1.1977 - acc: 0.5856 - val_loss: 0.0872 - val_acc: 0.9937\n",
            "Epoch 2/3\n",
            "22/23 [===========================>..] - ETA: 3s - loss: 0.0917 - acc: 0.9691Epoch 1/3\n",
            "23/23 [==============================] - 86s 4s/step - loss: 0.0878 - acc: 0.9705 - val_loss: 0.0024 - val_acc: 1.0000\n",
            "Epoch 3/3\n",
            "22/23 [===========================>..] - ETA: 3s - loss: 0.2656 - acc: 0.9560Epoch 1/3\n",
            "23/23 [==============================] - 89s 4s/step - loss: 0.2552 - acc: 0.9579 - val_loss: 0.1557 - val_acc: 0.9281\n"
          ],
          "name": "stdout"
        }
      ]
    },
    {
      "cell_type": "code",
      "metadata": {
        "id": "V-NZASXCje5C",
        "colab": {
          "base_uri": "https://localhost:8080/",
          "height": 282
        },
        "outputId": "dd0e3c17-8db3-45d8-eebf-7a447af8019b"
      },
      "source": [
        "t_a=history.history['acc']\n",
        "v_a=history.history['val_acc']\n",
        "plt.plot([i for i in range(0,len(t_a))],t_a)\n",
        "plt.plot([i for i in range(0,len(v_a))],v_a)"
      ],
      "execution_count": null,
      "outputs": [
        {
          "output_type": "execute_result",
          "data": {
            "text/plain": [
              "[<matplotlib.lines.Line2D at 0x7f21c3386668>]"
            ]
          },
          "metadata": {
            "tags": []
          },
          "execution_count": 20
        },
        {
          "output_type": "display_data",
          "data": {
            "image/png": "[encoded data removed]",
            "text/plain": [
              "<Figure size 432x288 with 1 Axes>"
            ]
          },
          "metadata": {
            "tags": [],
            "needs_background": "light"
          }
        }
      ]
    },
    {
      "cell_type": "code",
      "metadata": {
        "id": "rVPhKuwCm35G"
      },
      "source": [
        "model.save(\"hand.h5\")"
      ],
      "execution_count": null,
      "outputs": []
    },
    {
      "cell_type": "code",
      "metadata": {
        "id": "spxlZjuMR00Y"
      },
      "source": [
        ""
      ],
      "execution_count": null,
      "outputs": []
    }
  ]
}